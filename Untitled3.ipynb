{
  "nbformat": 4,
  "nbformat_minor": 0,
  "metadata": {
    "colab": {
      "provenance": []
    },
    "kernelspec": {
      "name": "python3",
      "display_name": "Python 3"
    },
    "language_info": {
      "name": "python"
    }
  },
  "cells": [
    {
      "cell_type": "code",
      "execution_count": 1,
      "metadata": {
        "id": "VbMo7-hpahjb"
      },
      "outputs": [],
      "source": [
        "#NumPy, short for Numerical Python, is a fundamental library for scientific computing in Python. It provides efficient array operations, linear algebra functions, and random number generation capabilities. Here's why NumPy is so crucial for data analysis and scientific computing:\n",
        "\n",
        "#Key Advantages:\n",
        "\n",
        "#Efficient Array Operations:\n",
        "#Vectorization: NumPy allows you to perform operations on entire arrays at once, significantly speeding up computations compared to traditional Python loops.\n",
        "#Broadcasting: This feature enables operations between arrays of different shapes, making complex calculations more concise and efficient.\n",
        "#High-Performance Numerical Computations:\n",
        "#Optimized Algorithms: NumPy leverages optimized C implementations for many operations, resulting in significant performance gains.\n",
        "#Linear Algebra Functions: It provides a rich set of linear algebra functions, including matrix multiplication, inversion, eigenvalue decomposition, and more.\n",
        "#Seamless Integration with Other Libraries:\n",
        "#SciPy: Builds upon NumPy to provide more advanced scientific computing algorithms and functions.\n",
        "#Pandas: Leverages NumPy arrays for efficient data manipulation and analysis.\n",
        "#Matplotlib: Uses NumPy arrays to create high-quality visualizations.\n",
        "#Scikit-learn: Employs NumPy for machine learning tasks, such as feature engineering and model training.\n",
        "#Random Number Generation:\n",
        "#Versatile Functions: NumPy offers various functions for generating random numbers from different distributions, including uniform, normal, and Poisson."
      ]
    },
    {
      "cell_type": "code",
      "source": [
        "#Both np.mean() and np.average() are functions in NumPy used to calculate averages. However, they have subtle differences in their behavior, particularly when dealing with weighted averages.\n",
        "import numpy as np\n",
        "\n",
        "arr = np.array([1, 2, 3, 4, 5])\n",
        "mean_value = np.mean(arr)"
      ],
      "metadata": {
        "id": "J6GfnX6EbB2V"
      },
      "execution_count": 2,
      "outputs": []
    },
    {
      "cell_type": "code",
      "source": [
        "#np.average()\n",
        "\n",
        "#Weighted Average: Can calculate the weighted average of an array, where each element contributes to the average based on a given weight.\n",
        "weights = np.array([1, 2, 3, 4, 5])\n",
        "weighted_avg = np.average(arr, weights=weights)"
      ],
      "metadata": {
        "id": "82oUBChUbebX"
      },
      "execution_count": 3,
      "outputs": []
    },
    {
      "cell_type": "code",
      "source": [
        "#3\n",
        "import numpy as np\n",
        "\n",
        "arr1d = np.array([1, 2, 3, 4, 5])\n",
        "reversed_arr1d = arr1d[::-1]\n",
        "print(reversed_arr1d)"
      ],
      "metadata": {
        "colab": {
          "base_uri": "https://localhost:8080/"
        },
        "id": "3XsoHG8Ab7A_",
        "outputId": "c9038115-8feb-48ef-902d-0972afc62a15"
      },
      "execution_count": 5,
      "outputs": [
        {
          "output_type": "stream",
          "name": "stdout",
          "text": [
            "[5 4 3 2 1]\n"
          ]
        }
      ]
    },
    {
      "cell_type": "code",
      "source": [
        "arr2d = np.array([[1, 2, 3],\n",
        "                  [4, 5, 6]])\n",
        "\n",
        "\n",
        "reversed_rows = arr2d[::-1, :]\n",
        "print(reversed_rows)\n",
        "\n",
        "\n"
      ],
      "metadata": {
        "colab": {
          "base_uri": "https://localhost:8080/"
        },
        "id": "Lna4RF-9b_77",
        "outputId": "3f7b3a3d-15e9-4af5-9b5a-48faf4c1a0d1"
      },
      "execution_count": 6,
      "outputs": [
        {
          "output_type": "stream",
          "name": "stdout",
          "text": [
            "[[4 5 6]\n",
            " [1 2 3]]\n"
          ]
        }
      ]
    },
    {
      "cell_type": "code",
      "source": [
        "reversed_cols = arr2d[:, ::-1]\n",
        "print(reversed_cols)"
      ],
      "metadata": {
        "colab": {
          "base_uri": "https://localhost:8080/"
        },
        "id": "RNd6a6jScRzk",
        "outputId": "55f4959f-4a6e-40d9-9708-132e588b4ab8"
      },
      "execution_count": 7,
      "outputs": [
        {
          "output_type": "stream",
          "name": "stdout",
          "text": [
            "[[3 2 1]\n",
            " [6 5 4]]\n"
          ]
        }
      ]
    },
    {
      "cell_type": "code",
      "source": [
        "#4\n",
        "import numpy as np\n",
        "\n",
        "arr = np.array([1, 2, 3, 4, 5])\n",
        "print(arr.dtype)"
      ],
      "metadata": {
        "colab": {
          "base_uri": "https://localhost:8080/"
        },
        "id": "1OZic74ocWPK",
        "outputId": "3efa03a0-1547-457c-c662-93c7b2bee44d"
      },
      "execution_count": 8,
      "outputs": [
        {
          "output_type": "stream",
          "name": "stdout",
          "text": [
            "int64\n"
          ]
        }
      ]
    },
    {
      "cell_type": "code",
      "source": [
        "#5\n",
        "#NumPy arrays, or ndarrays, are fundamental data structures in Python for numerical computations. They are multi-dimensional arrays that provide efficient storage and manipulation of numerical data.\n",
        "\n",
        "#Key Features of ndarrays:\n",
        "\n",
        "#Homogeneous Data Types:\n",
        "\n",
        "#All elements in an ndarray must have the same data type (e.g., int32, float64).\n",
        "#This ensures efficient memory usage and optimized operations.\n",
        "#Multi-Dimensionality:\n",
        "\n",
        "#ndarrays can have any number of dimensions, from 0D (scalar) to N-dimensional arrays.\n",
        "#This flexibility allows you to represent various data structures like vectors, matrices, and tensors.\n",
        "#Efficient Memory Layout:\n",
        "\n",
        "#ndarrays are stored in contiguous memory blocks, enabling efficient memory access and vectorized operations.\n",
        "#Vectorized Operations:\n",
        "\n",
        "#NumPy supports vectorized operations, which allow you to perform operations on entire arrays element-wise without explicit loops.\n",
        "#This significantly improves performance, especially for large datasets.\n",
        "#Broadcasting:\n",
        "\n",
        "#NumPy's broadcasting rules allow you to perform operations between arrays of different shapes, as long as certain conditions are met.\n",
        "#This simplifies many numerical computations and reduces the need for explicit loops.\n"
      ],
      "metadata": {
        "id": "6IZepw1mzxgQ"
      },
      "execution_count": 9,
      "outputs": []
    },
    {
      "cell_type": "code",
      "source": [
        "#6\n",
        "import numpy as np\n",
        "import time\n",
        "\n",
        "\n",
        "N = 1000000\n",
        "arr1 = np.random.rand(N)\n",
        "arr2 = np.random.rand(N)\n",
        "\n",
        "\n",
        "list1 = arr1.tolist()\n",
        "list2 = arr2.tolist()\n",
        "\n",
        "\n",
        "start_time = time.time()\n",
        "result_np = arr1 * arr2\n",
        "end_time = time.time()\n",
        "np_time = end_time - start_time\n",
        "\n",
        "start_time = time.time()\n",
        "result_list = [x * y for x, y in zip(list1, list2)]\n",
        "end_time = time.time()\n",
        "list_time = end_time - start_time\n",
        "\n",
        "print(\"NumPy time:\", np_time)\n",
        "print(\"Python list time:\", list_time)"
      ],
      "metadata": {
        "colab": {
          "base_uri": "https://localhost:8080/"
        },
        "id": "vy_0PVfW0kZJ",
        "outputId": "4f2ec311-c435-4b45-e317-7a3a019bb0d9"
      },
      "execution_count": 10,
      "outputs": [
        {
          "output_type": "stream",
          "name": "stdout",
          "text": [
            "NumPy time: 0.007090330123901367\n",
            "Python list time: 0.13741016387939453\n"
          ]
        }
      ]
    },
    {
      "cell_type": "code",
      "source": [
        "#7\n",
        "import numpy as np\n",
        "\n",
        "arr1 = np.array([[1, 2, 3],\n",
        "                 [4, 5, 6]])\n",
        "\n",
        "arr2 = np.array([[7, 8, 9],\n",
        "                 [10, 11, 12]])\n",
        "\n",
        "stacked_arr = np.vstack((arr1, arr2))\n",
        "print(stacked_arr)"
      ],
      "metadata": {
        "colab": {
          "base_uri": "https://localhost:8080/"
        },
        "id": "BEKCLzGy1J3w",
        "outputId": "a845b8b1-e689-4c86-95a5-0126369aef03"
      },
      "execution_count": 11,
      "outputs": [
        {
          "output_type": "stream",
          "name": "stdout",
          "text": [
            "[[ 1  2  3]\n",
            " [ 4  5  6]\n",
            " [ 7  8  9]\n",
            " [10 11 12]]\n"
          ]
        }
      ]
    },
    {
      "cell_type": "code",
      "source": [
        "#8\n",
        "import numpy as np\n",
        "\n",
        "arr = np.array([[1, 2, 3],\n",
        "                [4, 5, 6]])\n",
        "\n",
        "flipped_arr = np.fliplr(arr)\n",
        "print(flipped_arr)"
      ],
      "metadata": {
        "colab": {
          "base_uri": "https://localhost:8080/"
        },
        "id": "J78xj-a_1aSm",
        "outputId": "7a3b176c-798a-4fc5-ea5b-5b474a75c3ec"
      },
      "execution_count": 12,
      "outputs": [
        {
          "output_type": "stream",
          "name": "stdout",
          "text": [
            "[[3 2 1]\n",
            " [6 5 4]]\n"
          ]
        }
      ]
    },
    {
      "cell_type": "code",
      "source": [
        "#9\n",
        "import numpy as np\n",
        "\n",
        "arr = np.arange(11)\n",
        "\n",
        "\n",
        "split_arr = np.array_split(arr, 3)\n",
        "print(split_arr)"
      ],
      "metadata": {
        "colab": {
          "base_uri": "https://localhost:8080/"
        },
        "id": "11kGSJCg1omH",
        "outputId": "cd27038e-1b43-47ab-99ed-c1baa5c4b9dc"
      },
      "execution_count": 13,
      "outputs": [
        {
          "output_type": "stream",
          "name": "stdout",
          "text": [
            "[array([0, 1, 2, 3]), array([4, 5, 6, 7]), array([ 8,  9, 10])]\n"
          ]
        }
      ]
    },
    {
      "cell_type": "code",
      "source": [
        "#10\n",
        "import numpy as np\n",
        "\n",
        "arr1 = np.array([1, 2, 3])\n",
        "arr2 = np.array([4, 5, 6])\n",
        "\n",
        "# Vectorized addition\n",
        "result = arr1 + arr2\n",
        "print(result)"
      ],
      "metadata": {
        "colab": {
          "base_uri": "https://localhost:8080/"
        },
        "id": "6Bg4JEiA11MC",
        "outputId": "cb5d01af-301b-441d-9691-e8b0eb1edfcc"
      },
      "execution_count": 14,
      "outputs": [
        {
          "output_type": "stream",
          "name": "stdout",
          "text": [
            "[5 7 9]\n"
          ]
        }
      ]
    },
    {
      "cell_type": "code",
      "source": [
        "\n",
        "#PRATICAL QUESTION\n",
        "#1\n",
        "import numpy as np\n",
        "\n",
        "\n",
        "array = np.random.randint(1, 101, size=(3, 3))\n",
        "\n",
        "print(\"Original array:\")\n",
        "print(array)\n",
        "\n",
        "\n",
        "transposed_array = array.T\n",
        "\n",
        "print(\"\\nTransposed array:\")\n",
        "print(transposed_array)"
      ],
      "metadata": {
        "colab": {
          "base_uri": "https://localhost:8080/"
        },
        "id": "FPh0WDKt1-l1",
        "outputId": "8dc67a8a-6e72-4fe6-afbf-e1a36da29d1d"
      },
      "execution_count": 15,
      "outputs": [
        {
          "output_type": "stream",
          "name": "stdout",
          "text": [
            "Original array:\n",
            "[[46 73 17]\n",
            " [41 68  7]\n",
            " [74 33 81]]\n",
            "\n",
            "Transposed array:\n",
            "[[46 41 74]\n",
            " [73 68 33]\n",
            " [17  7 81]]\n"
          ]
        }
      ]
    },
    {
      "cell_type": "code",
      "source": [
        "#2\n",
        "import numpy as np\n",
        "\n",
        "\n",
        "arr = np.arange(10)\n",
        "\n",
        "\n",
        "arr_2x5 = arr.reshape(2, 5)\n",
        "\n",
        "print(\"2x5 array:\")\n",
        "print(arr_2x5)\n",
        "\n",
        "\n",
        "arr_5x2 = arr.reshape(5, 2)\n",
        "\n",
        "print(\"\\n5x2 array:\")\n",
        "print(arr_5x2)"
      ],
      "metadata": {
        "colab": {
          "base_uri": "https://localhost:8080/"
        },
        "id": "nYesh-za2Wq4",
        "outputId": "c32d7d27-69b8-4ce5-b29c-2f98055a3450"
      },
      "execution_count": 16,
      "outputs": [
        {
          "output_type": "stream",
          "name": "stdout",
          "text": [
            "2x5 array:\n",
            "[[0 1 2 3 4]\n",
            " [5 6 7 8 9]]\n",
            "\n",
            "5x2 array:\n",
            "[[0 1]\n",
            " [2 3]\n",
            " [4 5]\n",
            " [6 7]\n",
            " [8 9]]\n"
          ]
        }
      ]
    },
    {
      "cell_type": "code",
      "source": [
        "#3\n",
        "import numpy as np\n",
        "\n",
        "\n",
        "array = np.random.rand(4, 4)\n",
        "\n",
        "\n",
        "bordered_array = np.pad(array, pad_width=1, mode='constant', constant_values=0)\n",
        "\n",
        "print(\"Original array:\")\n",
        "print(array)\n",
        "\n",
        "print(\"\\nArray with zero border:\")\n",
        "print(bordered_array)"
      ],
      "metadata": {
        "colab": {
          "base_uri": "https://localhost:8080/"
        },
        "id": "TFqZjUe02nYN",
        "outputId": "3e6abd7e-21fb-4a3f-b189-324bf21c60e3"
      },
      "execution_count": 17,
      "outputs": [
        {
          "output_type": "stream",
          "name": "stdout",
          "text": [
            "Original array:\n",
            "[[0.6938496  0.06099356 0.82203232 0.45645055]\n",
            " [0.33797158 0.43457032 0.92325437 0.11226814]\n",
            " [0.58805375 0.62727003 0.04161419 0.8611892 ]\n",
            " [0.07541106 0.95192426 0.12095905 0.86536914]]\n",
            "\n",
            "Array with zero border:\n",
            "[[0.         0.         0.         0.         0.         0.        ]\n",
            " [0.         0.6938496  0.06099356 0.82203232 0.45645055 0.        ]\n",
            " [0.         0.33797158 0.43457032 0.92325437 0.11226814 0.        ]\n",
            " [0.         0.58805375 0.62727003 0.04161419 0.8611892  0.        ]\n",
            " [0.         0.07541106 0.95192426 0.12095905 0.86536914 0.        ]\n",
            " [0.         0.         0.         0.         0.         0.        ]]\n"
          ]
        }
      ]
    },
    {
      "cell_type": "code",
      "source": [
        "#4\n",
        "import numpy as np\n",
        "\n",
        "array = np.arange(10, 61, 5)\n",
        "print(array)"
      ],
      "metadata": {
        "colab": {
          "base_uri": "https://localhost:8080/"
        },
        "id": "7lkL0lJh21xO",
        "outputId": "96717c67-74f3-4b68-d3c6-a4aff8520267"
      },
      "execution_count": 18,
      "outputs": [
        {
          "output_type": "stream",
          "name": "stdout",
          "text": [
            "[10 15 20 25 30 35 40 45 50 55 60]\n"
          ]
        }
      ]
    },
    {
      "cell_type": "code",
      "source": [
        "#6\n",
        "import numpy as np\n",
        "\n",
        "words = np.array(['hello', 'world', 'numpy'])\n",
        "\n",
        "# Add spaces between characters\n",
        "spaced_words = np.char.replace(words, '', ' ')\n",
        "\n",
        "print(spaced_words)"
      ],
      "metadata": {
        "colab": {
          "base_uri": "https://localhost:8080/"
        },
        "id": "PxE9cuzL3Z0Q",
        "outputId": "3485b679-4061-4e03-deea-a5e91ba9d2ab"
      },
      "execution_count": 22,
      "outputs": [
        {
          "output_type": "stream",
          "name": "stdout",
          "text": [
            "[' h e l l o ' ' w o r l d ' ' n u m p y ']\n"
          ]
        }
      ]
    },
    {
      "cell_type": "code",
      "source": [
        "#7\n",
        "import numpy as np\n",
        "\n",
        "\n",
        "array1 = np.array([[1, 2], [3, 4]])\n",
        "array2 = np.array([[5, 6], [7, 8]])\n",
        "\n",
        "\n",
        "addition = array1 + array2\n",
        "\n",
        "\n",
        "subtraction = array1 - array2\n",
        "\n",
        "\n",
        "multiplication = array1 * array2\n",
        "\n",
        "\n",
        "division = array1 / array2\n",
        "\n",
        "print(\"Addition:\")\n",
        "print(addition)\n",
        "\n",
        "print(\"\\nSubtraction:\")\n",
        "print(subtraction)\n",
        "\n",
        "print(\"\\nMultiplication:\")\n",
        "print(multiplication)\n",
        "\n",
        "print(\"\\nDivision:\")\n",
        "print(division)"
      ],
      "metadata": {
        "colab": {
          "base_uri": "https://localhost:8080/"
        },
        "id": "rAB_5Tg93jaF",
        "outputId": "81559436-f068-4967-b918-bbbfc7b67060"
      },
      "execution_count": 23,
      "outputs": [
        {
          "output_type": "stream",
          "name": "stdout",
          "text": [
            "Addition:\n",
            "[[ 6  8]\n",
            " [10 12]]\n",
            "\n",
            "Subtraction:\n",
            "[[-4 -4]\n",
            " [-4 -4]]\n",
            "\n",
            "Multiplication:\n",
            "[[ 5 12]\n",
            " [21 32]]\n",
            "\n",
            "Division:\n",
            "[[0.2        0.33333333]\n",
            " [0.42857143 0.5       ]]\n"
          ]
        }
      ]
    },
    {
      "cell_type": "code",
      "source": [
        "#8\n",
        "import numpy as np\n",
        "\n",
        "\n",
        "identity_matrix = np.eye(5)\n",
        "\n",
        "print(\"Identity Matrix:\")\n",
        "print(identity_matrix)\n",
        "\n",
        "\n",
        "diagonal_elements = np.diag(identity_matrix)\n",
        "\n",
        "print(\"\\nDiagonal Elements:\")\n",
        "print(diagonal_elements)"
      ],
      "metadata": {
        "colab": {
          "base_uri": "https://localhost:8080/"
        },
        "id": "3Zrfu1jl30zq",
        "outputId": "70c377bc-9151-4aca-b845-4302b21e4fb2"
      },
      "execution_count": 24,
      "outputs": [
        {
          "output_type": "stream",
          "name": "stdout",
          "text": [
            "Identity Matrix:\n",
            "[[1. 0. 0. 0. 0.]\n",
            " [0. 1. 0. 0. 0.]\n",
            " [0. 0. 1. 0. 0.]\n",
            " [0. 0. 0. 1. 0.]\n",
            " [0. 0. 0. 0. 1.]]\n",
            "\n",
            "Diagonal Elements:\n",
            "[1. 1. 1. 1. 1.]\n"
          ]
        }
      ]
    },
    {
      "cell_type": "code",
      "source": [
        "#9\n",
        "import numpy as np\n",
        "\n",
        "def is_prime(num):\n",
        "    if num <= 1:\n",
        "        return False\n",
        "    for i in range(2, int(num**0.5) + 1):\n",
        "        if num % i == 0:\n",
        "            return False\n",
        "    return True\n",
        "\n",
        "\n",
        "random_array = np.random.randint(0, 1001, 100)\n",
        "\n",
        "\n",
        "prime_numbers = random_array[np.vectorize(is_prime)(random_array)]\n",
        "\n",
        "print(\"Prime numbers in the array:\", prime_numbers)"
      ],
      "metadata": {
        "colab": {
          "base_uri": "https://localhost:8080/"
        },
        "id": "yLSWhaYD3_pl",
        "outputId": "fdcb820a-03d7-4ca9-f2b7-ff7b72f53257"
      },
      "execution_count": 25,
      "outputs": [
        {
          "output_type": "stream",
          "name": "stdout",
          "text": [
            "Prime numbers in the array: [ 43 463 967 227  79 641 149 317 197 461  67  19 659 821 701 673   2 311\n",
            " 751]\n"
          ]
        }
      ]
    },
    {
      "cell_type": "code",
      "source": [],
      "metadata": {
        "id": "8vP7zDFC4cs6"
      },
      "execution_count": null,
      "outputs": []
    }
  ]
}